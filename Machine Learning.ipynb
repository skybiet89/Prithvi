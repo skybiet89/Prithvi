{
 "cells": [
  {
   "cell_type": "code",
   "execution_count": null,
   "metadata": {},
   "outputs": [],
   "source": [
    "import os\n",
    "from datetime import datetime\n",
    "import zipfile\n",
    "import pandas as pd\n",
    "import numpy as np\n",
    "from datetime import datetime\n",
    "from sklearn.model_selection import train_test_split\n",
    "from sklearn.ensemble import RandomForestClassifier\n",
    "from sklearn import tree\n",
    "import time\n",
    "from sklearn.metrics import classification_report, accuracy_score\n",
    "from sklearn import preprocessing\n"
   ]
  },
  {
   "cell_type": "code",
   "execution_count": 2,
   "metadata": {},
   "outputs": [
    {
     "ename": "NameError",
     "evalue": "name 'os' is not defined",
     "output_type": "error",
     "traceback": [
      "\u001b[1;31m---------------------------------------------------------------------------\u001b[0m",
      "\u001b[1;31mNameError\u001b[0m                                 Traceback (most recent call last)",
      "\u001b[1;32m<ipython-input-2-014a8dd0f894>\u001b[0m in \u001b[0;36m<module>\u001b[1;34m\u001b[0m\n\u001b[0;32m      1\u001b[0m \u001b[0mpath\u001b[0m\u001b[1;33m=\u001b[0m\u001b[1;34mr\"C:\\Users\\Sumit kumar Yadav\\Desktop\\raw\"\u001b[0m\u001b[1;33m\u001b[0m\u001b[1;33m\u001b[0m\u001b[0m\n\u001b[1;32m----> 2\u001b[1;33m \u001b[0mtrain1\u001b[0m\u001b[1;33m=\u001b[0m\u001b[0mos\u001b[0m\u001b[1;33m.\u001b[0m\u001b[0mpath\u001b[0m\u001b[1;33m.\u001b[0m\u001b[0mjoin\u001b[0m\u001b[1;33m(\u001b[0m\u001b[0mpath\u001b[0m\u001b[1;33m,\u001b[0m\u001b[1;34m\"train/phone/gyro\"\u001b[0m\u001b[1;33m)\u001b[0m\u001b[1;33m\u001b[0m\u001b[1;33m\u001b[0m\u001b[0m\n\u001b[0m\u001b[0;32m      3\u001b[0m \u001b[0mtrain2\u001b[0m\u001b[1;33m=\u001b[0m\u001b[0mos\u001b[0m\u001b[1;33m.\u001b[0m\u001b[0mpath\u001b[0m\u001b[1;33m.\u001b[0m\u001b[0mjoin\u001b[0m\u001b[1;33m(\u001b[0m\u001b[0mpath\u001b[0m\u001b[1;33m,\u001b[0m\u001b[1;34m\"train/phone/accel\"\u001b[0m\u001b[1;33m)\u001b[0m\u001b[1;33m\u001b[0m\u001b[1;33m\u001b[0m\u001b[0m\n\u001b[0;32m      4\u001b[0m \u001b[0mtrain3\u001b[0m\u001b[1;33m=\u001b[0m\u001b[0mos\u001b[0m\u001b[1;33m.\u001b[0m\u001b[0mpath\u001b[0m\u001b[1;33m.\u001b[0m\u001b[0mjoin\u001b[0m\u001b[1;33m(\u001b[0m\u001b[0mpath\u001b[0m\u001b[1;33m,\u001b[0m\u001b[1;34m\"train/watch/gyro\"\u001b[0m\u001b[1;33m)\u001b[0m\u001b[1;33m\u001b[0m\u001b[1;33m\u001b[0m\u001b[0m\n\u001b[0;32m      5\u001b[0m \u001b[0mtrain4\u001b[0m\u001b[1;33m=\u001b[0m\u001b[0mos\u001b[0m\u001b[1;33m.\u001b[0m\u001b[0mpath\u001b[0m\u001b[1;33m.\u001b[0m\u001b[0mjoin\u001b[0m\u001b[1;33m(\u001b[0m\u001b[0mpath\u001b[0m\u001b[1;33m,\u001b[0m\u001b[1;34m\"train/watch/accel\"\u001b[0m\u001b[1;33m)\u001b[0m\u001b[1;33m\u001b[0m\u001b[1;33m\u001b[0m\u001b[0m\n",
      "\u001b[1;31mNameError\u001b[0m: name 'os' is not defined"
     ]
    }
   ],
   "source": [
    "path=r\"C:\\Users\\Sumit kumar Yadav\\Desktop\\raw\"\n",
    "train1=os.path.join(path,\"train/phone/gyro\")\n",
    "train2=os.path.join(path,\"train/phone/accel\")\n",
    "train3=os.path.join(path,\"train/watch/gyro\")\n",
    "train4=os.path.join(path,\"train/watch/accel\")\n",
    "\n",
    "test1=os.path.join(path,\"test/phone/gyro\")\n",
    "test2=os.path.join(path,\"test/phone/accel\")\n",
    "test3=os.path.join(path,\"test/watch/gyro\")\n",
    "test4=os.path.join(path,\"test/watch/accel\")"
   ]
  },
  {
   "cell_type": "code",
   "execution_count": 1,
   "metadata": {},
   "outputs": [
    {
     "ename": "NameError",
     "evalue": "name 'pd' is not defined",
     "output_type": "error",
     "traceback": [
      "\u001b[1;31m---------------------------------------------------------------------------\u001b[0m",
      "\u001b[1;31mNameError\u001b[0m                                 Traceback (most recent call last)",
      "\u001b[1;32m<ipython-input-1-6131d62d985a>\u001b[0m in \u001b[0;36m<module>\u001b[1;34m\u001b[0m\n\u001b[1;32m----> 1\u001b[1;33m \u001b[0mdf\u001b[0m\u001b[1;33m=\u001b[0m\u001b[0mpd\u001b[0m\u001b[1;33m.\u001b[0m\u001b[0mDataFrame\u001b[0m\u001b[1;33m(\u001b[0m\u001b[1;33m)\u001b[0m\u001b[1;33m\u001b[0m\u001b[1;33m\u001b[0m\u001b[0m\n\u001b[0m\u001b[0;32m      2\u001b[0m \u001b[1;32mfor\u001b[0m \u001b[0mn\u001b[0m \u001b[1;32min\u001b[0m \u001b[0mos\u001b[0m\u001b[1;33m.\u001b[0m\u001b[0mlistdir\u001b[0m\u001b[1;33m(\u001b[0m\u001b[0mtrain1\u001b[0m\u001b[1;33m)\u001b[0m\u001b[1;33m:\u001b[0m\u001b[1;33m\u001b[0m\u001b[1;33m\u001b[0m\u001b[0m\n\u001b[0;32m      3\u001b[0m     \u001b[0mdf\u001b[0m\u001b[1;33m=\u001b[0m\u001b[0mpd\u001b[0m\u001b[1;33m.\u001b[0m\u001b[0mconcat\u001b[0m\u001b[1;33m(\u001b[0m\u001b[1;33m[\u001b[0m\u001b[0mdf\u001b[0m\u001b[1;33m,\u001b[0m\u001b[0mpd\u001b[0m\u001b[1;33m.\u001b[0m\u001b[0mread_csv\u001b[0m\u001b[1;33m(\u001b[0m\u001b[0mos\u001b[0m\u001b[1;33m.\u001b[0m\u001b[0mpath\u001b[0m\u001b[1;33m.\u001b[0m\u001b[0mjoin\u001b[0m\u001b[1;33m(\u001b[0m\u001b[0mtrain1\u001b[0m\u001b[1;33m,\u001b[0m\u001b[0mn\u001b[0m\u001b[1;33m)\u001b[0m\u001b[1;33m,\u001b[0m\u001b[0msep\u001b[0m\u001b[1;33m=\u001b[0m\u001b[1;34m\",\"\u001b[0m\u001b[1;33m,\u001b[0m\u001b[0mheader\u001b[0m\u001b[1;33m=\u001b[0m\u001b[1;32mNone\u001b[0m\u001b[1;33m)\u001b[0m\u001b[1;33m]\u001b[0m\u001b[1;33m)\u001b[0m\u001b[1;33m\u001b[0m\u001b[1;33m\u001b[0m\u001b[0m\n\u001b[0;32m      4\u001b[0m \u001b[1;32mfor\u001b[0m \u001b[0mn\u001b[0m \u001b[1;32min\u001b[0m \u001b[0mos\u001b[0m\u001b[1;33m.\u001b[0m\u001b[0mlistdir\u001b[0m\u001b[1;33m(\u001b[0m\u001b[0mtrain2\u001b[0m\u001b[1;33m)\u001b[0m\u001b[1;33m:\u001b[0m\u001b[1;33m\u001b[0m\u001b[1;33m\u001b[0m\u001b[0m\n\u001b[0;32m      5\u001b[0m     \u001b[0mdf\u001b[0m\u001b[1;33m=\u001b[0m\u001b[0mpd\u001b[0m\u001b[1;33m.\u001b[0m\u001b[0mconcat\u001b[0m\u001b[1;33m(\u001b[0m\u001b[1;33m[\u001b[0m\u001b[0mdf\u001b[0m\u001b[1;33m,\u001b[0m\u001b[0mpd\u001b[0m\u001b[1;33m.\u001b[0m\u001b[0mread_csv\u001b[0m\u001b[1;33m(\u001b[0m\u001b[0mos\u001b[0m\u001b[1;33m.\u001b[0m\u001b[0mpath\u001b[0m\u001b[1;33m.\u001b[0m\u001b[0mjoin\u001b[0m\u001b[1;33m(\u001b[0m\u001b[0mtrain2\u001b[0m\u001b[1;33m,\u001b[0m\u001b[0mn\u001b[0m\u001b[1;33m)\u001b[0m\u001b[1;33m,\u001b[0m\u001b[0msep\u001b[0m\u001b[1;33m=\u001b[0m\u001b[1;34m\",\"\u001b[0m\u001b[1;33m,\u001b[0m\u001b[0mheader\u001b[0m\u001b[1;33m=\u001b[0m\u001b[1;32mNone\u001b[0m\u001b[1;33m)\u001b[0m\u001b[1;33m]\u001b[0m\u001b[1;33m)\u001b[0m\u001b[1;33m\u001b[0m\u001b[1;33m\u001b[0m\u001b[0m\n",
      "\u001b[1;31mNameError\u001b[0m: name 'pd' is not defined"
     ]
    }
   ],
   "source": [
    "df=pd.DataFrame()\n",
    "for n in os.listdir(train1):\n",
    "    df=pd.concat([df,pd.read_csv(os.path.join(train1,n),sep=\",\",header=None)])\n",
    "for n in os.listdir(train2):\n",
    "    df=pd.concat([df,pd.read_csv(os.path.join(train2,n),sep=\",\",header=None)])\n",
    "for n in os.listdir(train3):\n",
    "    df=pd.concat([df,pd.read_csv(os.path.join(train3,n),sep=\",\",header=None)])\n",
    "for n in os.listdir(train4):\n",
    "    df=pd.concat([df,pd.read_csv(os.path.join(train4,n),sep=\",\",header=None)])\n",
    "\n",
    "\n",
    "df_test=pd.DataFrame()\n",
    "for n in os.listdir(test1):\n",
    "    df_test=pd.concat([df_test,pd.read_csv(os.path.join(test1,n),sep=\",\",header=None)])\n",
    "for n in os.listdir(test2):\n",
    "    df_test=pd.concat([df_test,pd.read_csv(os.path.join(test2,n),sep=\",\",header=None)])\n",
    "for n in os.listdir(test3):\n",
    "    df_test=pd.concat([df_test,pd.read_csv(os.path.join(test3,n),sep=\",\",header=None)])\n",
    "for n in os.listdir(test4):\n",
    "    df_test=pd.concat([df_test,pd.read_csv(os.path.join(test4,n),sep=\",\",header=None)])\n",
    "df_test.head()"
   ]
  },
  {
   "cell_type": "code",
   "execution_count": null,
   "metadata": {},
   "outputs": [],
   "source": [
    "train=df\n",
    "test=df_test\n",
    "df.columns=[\"id\",\"activity\",\"time\",\"x\",\"y\",\"z\"]\n",
    "df['z'] = df['z'].apply(lambda x: float(x[:-1]))\n",
    "\n",
    "df_test.columns=[\"id\",\"activity\",\"time\",\"x\",\"y\",\"z\"]\n",
    "df_test['z'] = df_test['z'].apply(lambda x: float(x[:-1]))\n",
    "\n",
    "df['time'] = df['time'].apply(lambda x: x//1000000)\n",
    "df['time'] = df['time'].apply(lambda x: datetime.fromtimestamp(x))\n",
    "df_test['time'] = df_test['time'].apply(lambda x: x//1000000)\n",
    "df_test['time'] = df_test['time'].apply(lambda x: datetime.fromtimestamp(x))\n",
    "df.drop(columns=\"id\",inplace=True)\n",
    "df_test.drop(columns=\"id\",inplace=True)\n",
    "df_test.head()"
   ]
  },
  {
   "cell_type": "code",
   "execution_count": null,
   "metadata": {},
   "outputs": [],
   "source": [
    "activity=[\"A\",\"B\",\"C\",\"D\",\"E\",\"F\",\"G\",\"H\",\"I\",\"J\",\"K\",\"L\",\"M\",\"O\",\"P\",\"Q\",\"R\",\"S\"]\n",
    "activity_encoder={}\n",
    "activity_decoder={}\n",
    "count=0\n",
    "for n in activity:\n",
    "    activity_encoder[n]=count\n",
    "    activity_decoder[count]=n\n",
    "    count+=1\n",
    "\n",
    "df['activity'] = df['activity'].apply(lambda x: activity_encoder[x])\n",
    "\n",
    "df_test['activity'] = df_test['activity'].apply(lambda x: activity_encoder[x])\n",
    "df_test.head()"
   ]
  },
  {
   "cell_type": "code",
   "execution_count": null,
   "metadata": {},
   "outputs": [],
   "source": [
    "for n in (\"year\",\"month\",\"week\",\"day\"):\n",
    "    df[n]=getattr(df[\"time\"].dt,n)\n",
    "    \n",
    "df.drop(columns=\"time\",inplace=True)\n",
    "for n in (\"year\",\"month\",\"week\",\"day\"):\n",
    "    df_test[n]=getattr(df_test[\"time\"].dt,n)\n",
    "df_test.drop(columns=\"time\",inplace=True)\n",
    "df_test.head()"
   ]
  },
  {
   "cell_type": "code",
   "execution_count": null,
   "metadata": {},
   "outputs": [],
   "source": [
    "df = df.sample(frac=1).reset_index(drop=True)\n",
    "df_test = df_test.sample(frac=1).reset_index(drop=True)\n",
    "total_data=pd.DataFrame()\n",
    "total_data=pd.concat([df,df_test])\n",
    "total_data.head()"
   ]
  },
  {
   "cell_type": "code",
   "execution_count": null,
   "metadata": {},
   "outputs": [],
   "source": [
    "y=total_data[\"activity\"]\n",
    "x=total_data.drop(columns=\"activity\")\n",
    "x_train, x_test, y_train, y_test = train_test_split(x,y , train_size = 0.8, random_state =  90)\n"
   ]
  },
  {
   "cell_type": "code",
   "execution_count": null,
   "metadata": {},
   "outputs": [],
   "source": [
    "# mm_scaler = preprocessing.Normalizer().fit(x_train)\n",
    "# x_train=mm_scaler.transform(x_train)\n",
    "# x_test=mm_scaler.transform(x_test)\n"
   ]
  },
  {
   "cell_type": "code",
   "execution_count": null,
   "metadata": {},
   "outputs": [],
   "source": [
    "model = tree.DecisionTreeClassifier()\n",
    "model.fit(x_train, y_train)\n",
    "y= model.predict(x_test)\n",
    "acc = accuracy_score(y_test, y)\n",
    "print(\"Accuracy of model is \",acc)"
   ]
  },
  {
   "cell_type": "code",
   "execution_count": null,
   "metadata": {},
   "outputs": [],
   "source": [
    "def eval_df(df):\n",
    "    df.columns=[\"id\",\"activity\",\"time\",\"x\",\"y\",\"z\"]\n",
    "    df['z'] = df['z'].apply(lambda x: float(x[:-1]))\n",
    "    df['time'] = df['time'].apply(lambda x: x//1000000)\n",
    "    df['time'] = df['time'].apply(lambda x: datetime.fromtimestamp(x))\n",
    "    df.drop(columns=\"id\",inplace=True)\n",
    "    activity=[\"A\",\"B\",\"C\",\"D\",\"E\",\"F\",\"G\",\"H\",\"I\",\"J\",\"K\",\"L\",\"M\",\"O\",\"P\",\"Q\",\"R\",\"S\"]\n",
    "    activity_encoder={}\n",
    "    activity_decoder={}\n",
    "    count=0\n",
    "    for n in activity:\n",
    "        activity_encoder[n]=count\n",
    "        activity_decoder[count]=n\n",
    "        count+=1\n",
    "    df['activity'] = df['activity'].apply(lambda x: activity_encoder[x])\n",
    "    for n in (\"year\",\"month\",\"week\",\"day\"):\n",
    "        df[n]=getattr(df[\"time\"].dt,n)\n",
    "    df.drop(columns=\"time\",inplace=True)\n",
    "    return df"
   ]
  },
  {
   "cell_type": "code",
   "execution_count": null,
   "metadata": {},
   "outputs": [],
   "source": [
    "df_for_evaluation=eval_df(your_dataframe_here)\n",
    "y= model.predict(df_for_evaluation)\n",
    "y_actual=[]\n",
    "for n in y:\n",
    "    y_actual.append(activity_decoder[n])\n",
    "acc = accuracy_score(y_test, y)\n",
    "print(\"Accuracy of model is \",acc)"
   ]
  },
  {
   "cell_type": "code",
   "execution_count": null,
   "metadata": {},
   "outputs": [],
   "source": []
  },
  {
   "cell_type": "code",
   "execution_count": null,
   "metadata": {},
   "outputs": [],
   "source": []
  },
  {
   "cell_type": "code",
   "execution_count": null,
   "metadata": {},
   "outputs": [],
   "source": []
  }
 ],
 "metadata": {
  "kernelspec": {
   "display_name": "Python 3",
   "language": "python",
   "name": "python3"
  },
  "language_info": {
   "codemirror_mode": {
    "name": "ipython",
    "version": 3
   },
   "file_extension": ".py",
   "mimetype": "text/x-python",
   "name": "python",
   "nbconvert_exporter": "python",
   "pygments_lexer": "ipython3",
   "version": "3.7.3"
  }
 },
 "nbformat": 4,
 "nbformat_minor": 2
}
